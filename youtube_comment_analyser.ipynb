{
  "cells": [
    {
      "cell_type": "code",
      "execution_count": null,
      "metadata": {
        "colab": {
          "base_uri": "https://localhost:8080/"
        },
        "id": "rjDKAIb9HcGU",
        "outputId": "d7c3cfd2-2f62-4081-cf07-9fbde9dd7aa1"
      },
      "outputs": [
        {
          "name": "stdout",
          "output_type": "stream",
          "text": [
            "Requirement already satisfied: pytube3 in /usr/local/lib/python3.10/dist-packages (9.6.4)\n",
            "Requirement already satisfied: typing-extensions in /usr/local/lib/python3.10/dist-packages (from pytube3) (4.10.0)\n"
          ]
        }
      ],
      "source": [
        "!pip install pytube3\n",
        "\n",
        "from pytube import YouTube\n"
      ]
    },
    {
      "cell_type": "code",
      "execution_count": null,
      "metadata": {
        "colab": {
          "base_uri": "https://localhost:8080/"
        },
        "id": "U_Rxv1L1IMY0",
        "outputId": "70f1a463-be03-4aab-8cd1-df93c5dd751f"
      },
      "outputs": [
        {
          "name": "stdout",
          "output_type": "stream",
          "text": [
            "Requirement already satisfied: google-api-python-client in /usr/local/lib/python3.10/dist-packages (2.84.0)\n",
            "Requirement already satisfied: httplib2<1dev,>=0.15.0 in /usr/local/lib/python3.10/dist-packages (from google-api-python-client) (0.22.0)\n",
            "Requirement already satisfied: google-auth<3.0.0dev,>=1.19.0 in /usr/local/lib/python3.10/dist-packages (from google-api-python-client) (2.27.0)\n",
            "Requirement already satisfied: google-auth-httplib2>=0.1.0 in /usr/local/lib/python3.10/dist-packages (from google-api-python-client) (0.1.1)\n",
            "Requirement already satisfied: google-api-core!=2.0.*,!=2.1.*,!=2.2.*,!=2.3.0,<3.0.0dev,>=1.31.5 in /usr/local/lib/python3.10/dist-packages (from google-api-python-client) (2.11.1)\n",
            "Requirement already satisfied: uritemplate<5,>=3.0.1 in /usr/local/lib/python3.10/dist-packages (from google-api-python-client) (4.1.1)\n",
            "Requirement already satisfied: googleapis-common-protos<2.0.dev0,>=1.56.2 in /usr/local/lib/python3.10/dist-packages (from google-api-core!=2.0.*,!=2.1.*,!=2.2.*,!=2.3.0,<3.0.0dev,>=1.31.5->google-api-python-client) (1.63.0)\n",
            "Requirement already satisfied: protobuf!=3.20.0,!=3.20.1,!=4.21.0,!=4.21.1,!=4.21.2,!=4.21.3,!=4.21.4,!=4.21.5,<5.0.0.dev0,>=3.19.5 in /usr/local/lib/python3.10/dist-packages (from google-api-core!=2.0.*,!=2.1.*,!=2.2.*,!=2.3.0,<3.0.0dev,>=1.31.5->google-api-python-client) (3.20.3)\n",
            "Requirement already satisfied: requests<3.0.0.dev0,>=2.18.0 in /usr/local/lib/python3.10/dist-packages (from google-api-core!=2.0.*,!=2.1.*,!=2.2.*,!=2.3.0,<3.0.0dev,>=1.31.5->google-api-python-client) (2.31.0)\n",
            "Requirement already satisfied: cachetools<6.0,>=2.0.0 in /usr/local/lib/python3.10/dist-packages (from google-auth<3.0.0dev,>=1.19.0->google-api-python-client) (5.3.3)\n",
            "Requirement already satisfied: pyasn1-modules>=0.2.1 in /usr/local/lib/python3.10/dist-packages (from google-auth<3.0.0dev,>=1.19.0->google-api-python-client) (0.3.0)\n",
            "Requirement already satisfied: rsa<5,>=3.1.4 in /usr/local/lib/python3.10/dist-packages (from google-auth<3.0.0dev,>=1.19.0->google-api-python-client) (4.9)\n",
            "Requirement already satisfied: pyparsing!=3.0.0,!=3.0.1,!=3.0.2,!=3.0.3,<4,>=2.4.2 in /usr/local/lib/python3.10/dist-packages (from httplib2<1dev,>=0.15.0->google-api-python-client) (3.1.2)\n",
            "Requirement already satisfied: pyasn1<0.6.0,>=0.4.6 in /usr/local/lib/python3.10/dist-packages (from pyasn1-modules>=0.2.1->google-auth<3.0.0dev,>=1.19.0->google-api-python-client) (0.5.1)\n",
            "Requirement already satisfied: charset-normalizer<4,>=2 in /usr/local/lib/python3.10/dist-packages (from requests<3.0.0.dev0,>=2.18.0->google-api-core!=2.0.*,!=2.1.*,!=2.2.*,!=2.3.0,<3.0.0dev,>=1.31.5->google-api-python-client) (3.3.2)\n",
            "Requirement already satisfied: idna<4,>=2.5 in /usr/local/lib/python3.10/dist-packages (from requests<3.0.0.dev0,>=2.18.0->google-api-core!=2.0.*,!=2.1.*,!=2.2.*,!=2.3.0,<3.0.0dev,>=1.31.5->google-api-python-client) (3.6)\n",
            "Requirement already satisfied: urllib3<3,>=1.21.1 in /usr/local/lib/python3.10/dist-packages (from requests<3.0.0.dev0,>=2.18.0->google-api-core!=2.0.*,!=2.1.*,!=2.2.*,!=2.3.0,<3.0.0dev,>=1.31.5->google-api-python-client) (2.0.7)\n",
            "Requirement already satisfied: certifi>=2017.4.17 in /usr/local/lib/python3.10/dist-packages (from requests<3.0.0.dev0,>=2.18.0->google-api-core!=2.0.*,!=2.1.*,!=2.2.*,!=2.3.0,<3.0.0dev,>=1.31.5->google-api-python-client) (2024.2.2)\n"
          ]
        }
      ],
      "source": [
        "!pip install google-api-python-client\n"
      ]
    },
    {
      "cell_type": "code",
      "execution_count": 36,
      "metadata": {
        "id": "kY0YjfuDI6MV"
      },
      "outputs": [],
      "source": [
        "from googleapiclient.discovery import build\n",
        "\n",
        "def get_video_comments_youtube_api(video_id, api_key):\n",
        "    youtube = build('youtube', 'v3', developerKey=api_key)\n",
        "    response = youtube.commentThreads().list(\n",
        "        part='snippet',\n",
        "        videoId=video_id,\n",
        "        textFormat='plainText'\n",
        "    ).execute()\n",
        "\n",
        "    comments = []\n",
        "    for item in response['items']:\n",
        "        comment = item['snippet']['topLevelComment']['snippet']['textDisplay']\n",
        "        comments.append(comment)\n",
        "\n",
        "    return comments\n"
      ]
    },
    {
      "cell_type": "code",
      "execution_count": 46,
      "metadata": {
        "colab": {
          "base_uri": "https://localhost:8080/"
        },
        "id": "4DdIh6VVI9jQ",
        "outputId": "f0e1e4c2-f9e4-42e9-d415-627398a44ec1"
      },
      "outputs": [
        {
          "name": "stdout",
          "output_type": "stream",
          "text": [
            "[\"Can I start with this course if I haven't done mathematics for Machine Learning?\", 'one of best ml,dl youtube channel🙌👌...', 'for this i have to pay 1lakh rupees ...you saved me', 'i found this course after a lot of search , it was not recommended me on searching by youtube', '5:37:02\\nFixing Error:\\nannot=True does not mean adding CRIM ZN etc\\nannot=True means adding those correlation numerical values on the squares\\n\\nIf annot=False, then no numerical values will be added on the squares', 'Can you please do a video tutorial on neural architecture search!', 'I stopped at 06:03:13', 'Thank you so much for this wonderful tutorial which covers all the topics.Appreciating your effort .👏👏', 'can i use vs-code for machine learning..?', 'Thanku so much for your efforts.', 'thank you /\\\\', '7:41:30', 'amazing sir, what a playlist..any beginner can go with this...on point content. Thankyou.', \"Completed the first video 😊 really greatfull for your efforts and dedication. I didn't learned everything but got a really broad perspective about a lot of things and experience is something that comes with time only. Still thanks a lot ❤❤❤❤❤❤❤❤❤❤❤❤❤❤❤❤❤❤❤❤❤❤\", 'Boston dataset is not available anymore . Please is there any help?', 'I dont know how to express my gratitude, this playlist is something I have been looking for since many months. You are truly a gem! Sharing virtual hearts 💕💕💕', '@Siddhardhan Bhaiya I have some doubts, there are several topics that are used in the video lectures for example in the \" Text Data Preprocessing \" module at 8:39:00 the stemming and the re library and the stopwords etc... i totally understand the usecase that you very well explained in the video but I have one question, is there a need for additional study of these topics right now I mean should I pause my study and learn these topics first or what you have taught is enough also I want to know that is DSA important if I am sitting for a data scientist interview or placement drive \\nbecause it is important for the students who pursue web development. Could you please elaborate what are the domains that i should be excelling or that are needed for the interview.\\n\\nThankyou so much for sparing time.\\n🙂❤️', 'Today i started your course and after completing it i will give my feedback 💫', 'I so much love it when I see people uploading courses of 60 hrs, Much love brother', 'God bless you for this wonderful course']\n"
          ]
        }
      ],
      "source": [
        "video_id = 'LcWFedjaR4Q'\n",
        "api_key = 'API-KEY'\n",
        "comments = get_video_comments_youtube_api(video_id, api_key)\n",
        "print(comments)\n"
      ]
    },
    {
      "cell_type": "code",
      "execution_count": 38,
      "metadata": {
        "colab": {
          "base_uri": "https://localhost:8080/"
        },
        "id": "GGn8a13gJN5c",
        "outputId": "9bedafa0-77d0-41b6-f2e7-fb4591b77829"
      },
      "outputs": [
        {
          "name": "stdout",
          "output_type": "stream",
          "text": [
            "Requirement already satisfied: nltk in /usr/local/lib/python3.10/dist-packages (3.8.1)\n",
            "Requirement already satisfied: click in /usr/local/lib/python3.10/dist-packages (from nltk) (8.1.7)\n",
            "Requirement already satisfied: joblib in /usr/local/lib/python3.10/dist-packages (from nltk) (1.3.2)\n",
            "Requirement already satisfied: regex>=2021.8.3 in /usr/local/lib/python3.10/dist-packages (from nltk) (2023.12.25)\n",
            "Requirement already satisfied: tqdm in /usr/local/lib/python3.10/dist-packages (from nltk) (4.66.2)\n"
          ]
        }
      ],
      "source": [
        "!pip install nltk\n"
      ]
    },
    {
      "cell_type": "code",
      "execution_count": 39,
      "metadata": {
        "colab": {
          "base_uri": "https://localhost:8080/"
        },
        "id": "AsTWcoTPNAH8",
        "outputId": "526f1450-88e8-4471-ff82-2aa0deaf2100"
      },
      "outputs": [
        {
          "name": "stderr",
          "output_type": "stream",
          "text": [
            "[nltk_data] Downloading package vader_lexicon to /root/nltk_data...\n",
            "[nltk_data]   Package vader_lexicon is already up-to-date!\n"
          ]
        },
        {
          "data": {
            "text/plain": [
              "True"
            ]
          },
          "execution_count": 39,
          "metadata": {},
          "output_type": "execute_result"
        }
      ],
      "source": [
        "import nltk\n",
        "nltk.download('vader_lexicon')\n"
      ]
    },
    {
      "cell_type": "code",
      "execution_count": null,
      "metadata": {
        "colab": {
          "base_uri": "https://localhost:8080/"
        },
        "id": "3gwwU_4BNBuY",
        "outputId": "d1c6ffc4-0483-4073-8dc7-fb4411deb977"
      },
      "outputs": [
        {
          "name": "stdout",
          "output_type": "stream",
          "text": [
            "['Neutral', 'Positive', 'Positive', 'Negative', 'Positive', 'Positive', 'Negative', 'Positive', 'Neutral', 'Neutral', 'Positive', 'Neutral', 'Positive', 'Positive', 'Positive', 'Positive', 'Positive', 'Neutral', 'Positive', 'Positive']\n"
          ]
        }
      ],
      "source": [
        "from nltk.sentiment.vader import SentimentIntensityAnalyzer\n",
        "\n",
        "def analyze_sentiment(comment):\n",
        "    sid = SentimentIntensityAnalyzer()\n",
        "    scores = sid.polarity_scores(comment)\n",
        "    compound_score = scores['compound']\n",
        "\n",
        "    if compound_score >= 0.05:\n",
        "        return 'Positive'\n",
        "    elif compound_score <= -0.05:\n",
        "        return 'Negative'\n",
        "    else:\n",
        "        return 'Neutral'\n",
        "\n",
        "def get_sentiments(comments):\n",
        "    sentiments = [analyze_sentiment(comment) for comment in comments]\n",
        "    return sentiments\n",
        "\n",
        "\n",
        "\n",
        "sentiments = get_sentiments(comments)\n",
        "print(sentiments)\n"
      ]
    },
    {
      "cell_type": "code",
      "execution_count": null,
      "metadata": {
        "colab": {
          "base_uri": "https://localhost:8080/"
        },
        "id": "IUSIhvDENHtC",
        "outputId": "553938e9-4169-456c-80dc-aae56ec5f152"
      },
      "outputs": [
        {
          "name": "stdout",
          "output_type": "stream",
          "text": [
            "Overall Sentiment: Positive\n"
          ]
        }
      ],
      "source": [
        "def get_overall_sentiment(sentiments):\n",
        "    positive_count = sentiments.count('Positive')\n",
        "    negative_count = sentiments.count('Negative')\n",
        "    neutral_count = sentiments.count('Neutral')\n",
        "\n",
        "    total = len(sentiments)\n",
        "\n",
        "    positive_percentage = (positive_count / total) * 100\n",
        "    negative_percentage = (negative_count / total) * 100\n",
        "    neutral_percentage = (neutral_count / total) * 100\n",
        "\n",
        "    if positive_percentage > negative_percentage and positive_percentage > neutral_percentage:\n",
        "        return 'Overall Sentiment: Positive'\n",
        "    elif negative_percentage > positive_percentage and negative_percentage > neutral_percentage:\n",
        "        return 'Overall Sentiment: Negative'\n",
        "    else:\n",
        "        return 'Overall Sentiment: Neutral'\n",
        "\n",
        "\n",
        "overall_sentiment = get_overall_sentiment(sentiments)\n",
        "print(overall_sentiment)\n"
      ]
    },
    {
      "cell_type": "code",
      "execution_count": null,
      "metadata": {
        "colab": {
          "base_uri": "https://localhost:8080/",
          "height": 472
        },
        "id": "FNjb6TxvNPKO",
        "outputId": "936b5c57-d8d4-40f4-e2e1-3171b0a280cf"
      },
      "outputs": [
        {
          "data": {
            "image/png": "[encoded data removed]",
            "text/plain": [
              "<Figure size 640x480 with 1 Axes>"
            ]
          },
          "metadata": {},
          "output_type": "display_data"
        }
      ],
      "source": [
        "import matplotlib.pyplot as plt\n",
        "\n",
        "def visualize_sentiments(sentiments):\n",
        "    labels = ['Positive', 'Negative', 'Neutral']\n",
        "    counts = [sentiments.count('Positive'), sentiments.count('Negative'), sentiments.count('Neutral')]\n",
        "\n",
        "    plt.bar(labels, counts, color=['green', 'red', 'blue'])\n",
        "    plt.xlabel('Sentiment')\n",
        "    plt.ylabel('Count')\n",
        "    plt.title('Distribution of Sentiments in Comments')\n",
        "    plt.show()\n",
        "\n",
        "\n",
        "visualize_sentiments(sentiments)\n"
      ]
    },
    {
      "cell_type": "markdown",
      "metadata": {
        "id": "CEh-XUOSODST"
      },
      "source": [
        "# **Metrics**"
      ]
    },
    {
      "cell_type": "code",
      "execution_count": null,
      "metadata": {
        "colab": {
          "base_uri": "https://localhost:8080/"
        },
        "id": "0TJNr5H6OCEI",
        "outputId": "5f1bf5c3-13f1-4fa6-d90a-1a33313dfaf7"
      },
      "outputs": [
        {
          "name": "stdout",
          "output_type": "stream",
          "text": [
            "Likes: 4516, Dislikes: 0, Views: 198997, Comment Count: 180\n"
          ]
        }
      ],
      "source": [
        "from googleapiclient.discovery import build\n",
        "\n",
        "def get_video_engagement(video_id, api_key):\n",
        "    youtube = build('youtube', 'v3', developerKey=api_key)\n",
        "    response = youtube.videos().list(\n",
        "        part='statistics',\n",
        "        id=video_id\n",
        "    ).execute()\n",
        "\n",
        "    statistics = response['items'][0]['statistics'\n",
        "    likes = int(statistics.get('likeCount', 0))\n",
        "    dislikes = int(statistics.get('dislikeCount', 0))\n",
        "    views = int(statistics.get('viewCount', 0))\n",
        "    comment_count = int(statistics.get('commentCount', 0))\n",
        "\n",
        "    return likes, dislikes, views, comment_count\n",
        "\n",
        "video_id = 'LcWFedjaR4Q'\n",
        "api_key = 'API-KEY'\n",
        "likes, dislikes, views, comment_count = get_video_engagement(video_id, api_key)\n",
        "likes , dislikes , views , comment_count = get_video_engagement(video_id , api_key)\n",
        "print(f'Likes: {likes}, Dislikes: {dislikes}, Views: {views}, Comment Count: {comment_count}')\n"
      ]
    },
    {
      "cell_type": "markdown",
      "metadata": {
        "id": "1MNTppGSPm44"
      },
      "source": [
        "# Non-English **comments**"
      ]
    },
    {
      "cell_type": "code",
      "execution_count": 35,
      "metadata": {
        "colab": {
          "base_uri": "https://localhost:8080/"
        },
        "id": "66kUfMpjOMBZ",
        "outputId": "35766c02-2e6d-48c0-9ac8-7979656f2ae8"
      },
      "outputs": [
        {
          "name": "stdout",
          "output_type": "stream",
          "text": [
            "Requirement already satisfied: textblob in /usr/local/lib/python3.10/dist-packages (0.17.1)\n",
            "Requirement already satisfied: nltk>=3.1 in /usr/local/lib/python3.10/dist-packages (from textblob) (3.8.1)\n",
            "Requirement already satisfied: click in /usr/local/lib/python3.10/dist-packages (from nltk>=3.1->textblob) (8.1.7)\n",
            "Requirement already satisfied: joblib in /usr/local/lib/python3.10/dist-packages (from nltk>=3.1->textblob) (1.3.2)\n",
            "Requirement already satisfied: regex>=2021.8.3 in /usr/local/lib/python3.10/dist-packages (from nltk>=3.1->textblob) (2023.12.25)\n",
            "Requirement already satisfied: tqdm in /usr/local/lib/python3.10/dist-packages (from nltk>=3.1->textblob) (4.66.2)\n"
          ]
        }
      ],
      "source": [
        "!pip install textblob\n"
      ]
    },
    {
      "cell_type": "code",
      "execution_count": null,
      "metadata": {
        "colab": {
          "base_uri": "https://localhost:8080/"
        },
        "id": "h463YZvHQNk5",
        "outputId": "98597ac4-8ee2-49f0-ad16-258e85e1798b"
      },
      "outputs": [
        {
          "name": "stdout",
          "output_type": "stream",
          "text": [
            "Collecting langdetect\n",
            "  Downloading langdetect-1.0.9.tar.gz (981 kB)\n",
            "\u001b[2K     \u001b[90m━━━━━━━━━━━━━━━━━━━━━━━━━━━━━━━━━━━━━━━━\u001b[0m \u001b[32m981.5/981.5 kB\u001b[0m \u001b[31m7.9 MB/s\u001b[0m eta \u001b[36m0:00:00\u001b[0m\n",
            "\u001b[?25h  Preparing metadata (setup.py) ... \u001b[?25l\u001b[?25hdone\n",
            "Requirement already satisfied: six in /usr/local/lib/python3.10/dist-packages (from langdetect) (1.16.0)\n",
            "Building wheels for collected packages: langdetect\n",
            "  Building wheel for langdetect (setup.py) ... \u001b[?25l\u001b[?25hdone\n",
            "  Created wheel for langdetect: filename=langdetect-1.0.9-py3-none-any.whl size=993227 sha256=03c981ccb93d9105012431bfe53cdc8d37a49b802d58fdbb5a65366f77e87574\n",
            "  Stored in directory: /root/.cache/pip/wheels/95/03/7d/59ea870c70ce4e5a370638b5462a7711ab78fba2f655d05106\n",
            "Successfully built langdetect\n",
            "Installing collected packages: langdetect\n",
            "Successfully installed langdetect-1.0.9\n"
          ]
        }
      ],
      "source": [
        "!pip install langdetect\n"
      ]
    },
    {
      "cell_type": "code",
      "execution_count": 40,
      "metadata": {
        "colab": {
          "base_uri": "https://localhost:8080/"
        },
        "id": "X48T7_WkPsfx",
        "outputId": "a857396f-1acf-41c4-c77c-a50d964ebb57"
      },
      "outputs": [
        {
          "name": "stdout",
          "output_type": "stream",
          "text": [
            "['Positive', 'Neutral', 'Positive', 'Neutral', 'Neutral', 'Neutral', 'Neutral', 'Neutral', 'Neutral', 'Neutral', 'Neutral', 'Neutral', 'Positive', 'Positive', 'Positive', 'Neutral', 'Neutral', 'Positive', 'Neutral', 'Neutral']\n"
          ]
        }
      ],
      "source": [
        "from langdetect import detect\n",
        "from textblob import TextBlob\n",
        "\n",
        "def detect_language(comment):\n",
        "    try:\n",
        "        language = detect(comment)\n",
        "    except:\n",
        "        language = 'unknown'\n",
        "    return language\n",
        "\n",
        "def analyze_sentiment_multilingual(comment):\n",
        "    blob = TextBlob(comment)\n",
        "    polarity = blob.sentiment.polarity\n",
        "\n",
        "    if polarity > 0:\n",
        "        return 'Positive'\n",
        "    elif polarity < 0:\n",
        "        return 'Negative'\n",
        "    else:\n",
        "        return 'Neutral'\n",
        "\n",
        "def analyze_sentiment_with_language(comments):\n",
        "    sentiments = []\n",
        "    for comment in comments:\n",
        "        language = detect_language(comment)\n",
        "        if language == 'en':\n",
        "            sentiment = analyze_sentiment(comment)\n",
        "        else:\n",
        "            sentiment = analyze_sentiment_multilingual(comment)\n",
        "        sentiments.append(sentiment)\n",
        "    return sentiments\n",
        "\n",
        "\n",
        "\n",
        "sentiments = analyze_sentiment_with_language(comments)\n",
        "print(sentiments)\n"
      ]
    },
    {
      "cell_type": "code",
      "execution_count": 43,
      "metadata": {
        "id": "vZQHAu6XP0n0"
      },
      "outputs": [],
      "source": [
        "import pandas as pd\n",
        "\n",
        "def create_sentiment_dataframe(comments, sentiments):\n",
        "    df = pd.DataFrame({'Comment': comments, 'Sentiment': sentiments})\n",
        "    return df"
      ]
    },
    {
      "cell_type": "code",
      "execution_count": 47,
      "metadata": {
        "colab": {
          "base_uri": "https://localhost:8080/"
        },
        "id": "sTBMYgi4Qy91",
        "outputId": "c9b17527-73a5-427e-c034-ee9a30787c67"
      },
      "outputs": [
        {
          "name": "stdout",
          "output_type": "stream",
          "text": [
            "                                              Comment Sentiment\n",
            "0   Can I start with this course if I haven't done...   Neutral\n",
            "1              one of best ml,dl youtube channel🙌👌...  Positive\n",
            "2   for this i have to pay 1lakh rupees ...you sav...  Positive\n",
            "3   i found this course after a lot of search , it...  Negative\n",
            "4   5:37:02\\nFixing Error:\\nannot=True does not me...  Positive\n",
            "5   Can you please do a video tutorial on neural a...  Positive\n",
            "6                               I stopped at 06:03:13  Negative\n",
            "7   Thank you so much for this wonderful tutorial ...  Positive\n",
            "8           can i use vs-code for machine learning..?   Neutral\n",
            "9                    Thanku so much for your efforts.   Neutral\n",
            "10                                       thank you /\\  Positive\n",
            "11                                            7:41:30   Neutral\n",
            "12  amazing sir, what a playlist..any beginner can...  Positive\n",
            "13  Completed the first video 😊 really greatfull f...  Positive\n",
            "14  Boston dataset is not available anymore . Plea...  Positive\n",
            "15  I dont know how to express my gratitude, this ...  Positive\n",
            "16  @Siddhardhan Bhaiya I have some doubts, there ...  Positive\n",
            "17  Today i started your course and after completi...   Neutral\n",
            "18  I so much love it when I see people uploading ...  Positive\n",
            "19            God bless you for this wonderful course  Positive\n"
          ]
        }
      ],
      "source": [
        "sentiments = analyze_sentiment_with_language(comments)\n",
        "\n",
        "df = create_sentiment_dataframe(comments, sentiments)\n",
        "print(df)"
      ]
    },
    {
      "cell_type": "code",
      "execution_count": 48,
      "metadata": {
        "colab": {
          "base_uri": "https://localhost:8080/"
        },
        "id": "oRkdoj1vQ1NX",
        "outputId": "8f25071f-0e81-475d-f049-0374b5851220"
      },
      "outputs": [
        {
          "name": "stdout",
          "output_type": "stream",
          "text": [
            "                                             Comment Sentiment\n",
            "3  i found this course after a lot of search , it...  Negative\n",
            "6                              I stopped at 06:03:13  Negative\n"
          ]
        }
      ],
      "source": [
        "negative_comments = df[df['Sentiment'] == 'Negative']\n",
        "print(negative_comments)\n"
      ]
    },
    {
      "cell_type": "code",
      "execution_count": 50,
      "metadata": {
        "colab": {
          "base_uri": "https://localhost:8080/"
        },
        "id": "Lel5R6VSRGo1",
        "outputId": "9b4db96c-6f9e-4f28-a1a0-ac00b8698997"
      },
      "outputs": [
        {
          "name": "stdout",
          "output_type": "stream",
          "text": [
            "Comment found: I stopped at 06:03:13\n"
          ]
        }
      ],
      "source": [
        "def find_comment_by_phrase(comments, phrase):\n",
        "    for comment in comments:\n",
        "        if comment.startswith(phrase):\n",
        "            return comment\n",
        "    return None\n",
        "\n",
        "\n",
        "\n",
        "phrase_to_find = \"I stopped at 06:\"\n",
        "comment_found = find_comment_by_phrase(comments, phrase_to_find)\n",
        "if comment_found:\n",
        "    print(\"Comment found:\", comment_found)\n",
        "else:\n",
        "    print(\"No comment found with the specified phrase.\")\n"
      ]
    },
    {
      "cell_type": "code",
      "execution_count": null,
      "metadata": {
        "id": "6Z9GxnCvSmus"
      },
      "outputs": [],
      "source": []
    }
  ],
  "metadata": {
    "colab": {
      "provenance": []
    },
    "kernelspec": {
      "display_name": "Python 3",
      "name": "python3"
    },
    "language_info": {
      "name": "python"
    }
  },
  "nbformat": 4,
  "nbformat_minor": 0
}
